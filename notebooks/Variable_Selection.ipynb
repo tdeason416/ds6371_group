{
 "cells": [
  {
   "cell_type": "code",
   "execution_count": 213,
   "metadata": {
    "collapsed": true
   },
   "outputs": [],
   "source": [
    "import pandas as pd\n",
    "import numpy as np\n",
    "import sklearn.linear_model as lm\n",
    "import sklearn.model_selection as ms\n",
    "\n",
    "import matplotlib.pyplot as plt\n",
    "%matplotlib inline\n",
    "plt.style.use('ggplot')\n",
    "\n",
    "import scipy.stats as scs\n",
    "\n",
    "%load_ext autoreload\n",
    "%autoreload 2"
   ]
  },
  {
   "cell_type": "code",
   "execution_count": 201,
   "metadata": {
    "collapsed": true
   },
   "outputs": [],
   "source": [
    "houses = pd.read_csv('../data/train_withdummy.csv')\n",
    "min_r2 = .15\n",
    "max_cov_r2 = .65\n",
    "y_col = 'SalePrice'"
   ]
  },
  {
   "cell_type": "code",
   "execution_count": 215,
   "metadata": {},
   "outputs": [],
   "source": [
    "def reduce_variables(df, y_col, min_r2, max_cov_r2):\n",
    "    y = houses[y_col]\n",
    "    score = {}\n",
    "    for col in houses.columns:\n",
    "        X = houses[col]\n",
    "        score[col] = scs.linregress(y, X).rvalue\n",
    "    score = pd.Series(score)\n",
    "    abs_score = np.abs(score)\n",
    "    ## ignore plot\n",
    "    #plt.scatter(np.arange(abs_score.size), abs_score.sort_values())\n",
    "    keep_cols = abs_score[abs_score > min_r2]\n",
    "    cov_score = pd.Series()\n",
    "    for col1, rval1 in keep_cols.iteritems():\n",
    "        y = houses[col1]\n",
    "        for col2, rval2 in keep_cols.iteritems():\n",
    "            X = houses[col2]\n",
    "            cov_score['{}%{}'.format(col1,col2)] = scs.linregress(y, X).rvalue\n",
    "    abs_cov_score = np.abs(cov_score)\n",
    "    ## ignore plot\n",
    "    #plt.scatter(np.arange(abs_cov_score.size), abs_cov_score.sort_values())\n",
    "    now_drop = abs_cov_score[(abs_cov_score > max_cov_r2) & (abs_cov_score != 1)]\n",
    "    ## drop every other value (because they will be in pairs)\n",
    "    drops = now_drop.sort_values(ascending=False).index[::2]\n",
    "    drops = pd.Series(drops).apply(lambda x: x.split('%')[0])\n",
    "    new_keep_cols = list(keep_cols.drop(list(drops)).index)\n",
    "    new_keep_cols.append(y_col)\n",
    "    return houses[new_keep_cols]"
   ]
  },
  {
   "cell_type": "code",
   "execution_count": 211,
   "metadata": {},
   "outputs": [
    {
     "name": "stdout",
     "output_type": "stream",
     "text": [
      "['1stFlrSF', 'BedroomAbvGr', 'BsmtExposure$Gd', 'BsmtExposure$No', 'BsmtFinSF1', 'BsmtFinType1$GLQ', 'BsmtFullBath', 'BsmtQual$Ex', 'BsmtQual$Gd', 'BsmtUnfSF', 'CentralAir$Y', 'Electrical$FuseA', 'ExterQual$Ex', 'Exterior1st$MetalSd', 'Exterior1st$VinylSd', 'Exterior2nd$Wd Sdng', 'FireplaceQu$Ex', 'FireplaceQu$Gd', 'FireplaceQu$TA', 'Fireplaces', 'Foundation$BrkTil', 'FullBath', 'GarageCars', 'GarageFinish$Fin', 'GarageFinish$RFn', 'GarageFinish$Unf', 'GarageQual$TA', 'GarageType$BuiltIn', 'GarageType$Detchd', 'HalfBath', 'HeatingQC$TA', 'KitchenQual$Ex', 'KitchenQual$Fa', 'KitchenQual$TA', 'LotArea', 'LotFrontage', 'LotShape$IR1', 'MSSubClass$1-1/2 STORY FINISHED ALL AGES', 'MSSubClass$1-STORY 1945 & OLDER', 'MSZoning$RL', 'MasVnrArea', 'MasVnrType$BrkFace', 'MasVnrType$Stone', 'Neighborhood$Edwards', 'Neighborhood$IDOTRR', 'Neighborhood$NAmes', 'Neighborhood$NoRidge', 'Neighborhood$NridgHt', 'Neighborhood$OldTown', 'Neighborhood$StoneBr', 'OpenPorchSF', 'PavedDrive$N', 'RoofMatl$WdShngl', 'RoofStyle$Hip', 'SaleCondition$Normal', 'WoodDeckSF', 'YearBuilt', 'YearRemodAdd', 'SalePrice']\n"
     ]
    }
   ],
   "source": [
    "# nvars = reduce_variables(houses, y_col, min_r2, max_cov_r2)"
   ]
  },
  {
   "cell_type": "code",
   "execution_count": 222,
   "metadata": {},
   "outputs": [],
   "source": [
    "houses = pd.read_csv('../data/train_withdummy.csv')\n",
    "min_r2 = .15\n",
    "max_cov_r2 = .65\n",
    "y_col = 'SalePrice'\n",
    "\n",
    "scores = {}\n",
    "\n",
    "for value in np.linspace(.05, .7, 30):\n",
    "    min_r2 = value\n",
    "    df = reduce_variables(houses, y_col, min_r2, max_cov_r2)\n",
    "    y = df['SalePrice']\n",
    "    X = df.drop('SalePrice', axis=1)\n",
    "    Xtr, Xte, ytr, yte = ms.train_test_split(X, y, train_size=.90)\n",
    "    model = lm.LinearRegression(n_jobs=-1)\n",
    "    model.fit(Xtr, ytr)\n",
    "    scores[value] = np.abs(model.score(Xte, yte))\n",
    "    "
   ]
  },
  {
   "cell_type": "code",
   "execution_count": 225,
   "metadata": {},
   "outputs": [
    {
     "data": {
      "text/plain": [
       "<matplotlib.collections.PathCollection at 0x11db2a470>"
      ]
     },
     "execution_count": 225,
     "metadata": {},
     "output_type": "execute_result"
    },
    {
     "data": {
      "image/png": "[encoded data removed]",
      "text/plain": [
       "<matplotlib.figure.Figure at 0x11c0cb1d0>"
      ]
     },
     "metadata": {},
     "output_type": "display_data"
    }
   ],
   "source": [
    "min_r2_scores = pd.Series(scores)\n",
    "plt.scatter(min_r2_scores.index, min_r2_scores)"
   ]
  },
  {
   "cell_type": "code",
   "execution_count": 227,
   "metadata": {},
   "outputs": [],
   "source": [
    "houses = pd.read_csv('../data/train_withdummy.csv')\n",
    "min_r2 = .05\n",
    "# max_cov_r2 = .65\n",
    "y_col = 'SalePrice'\n",
    "\n",
    "cov_scores = {}\n",
    "cov_predict = {}\n",
    "\n",
    "for value in np.linspace(.5, .75, 4):\n",
    "    max_cov_r2 = value\n",
    "    df = reduce_variables(houses, y_col, min_r2, max_cov_r2)\n",
    "    y = df['SalePrice']\n",
    "    X = df.drop('SalePrice', axis=1)\n",
    "    Xtr, Xte, ytr, yte = ms.train_test_split(X, y, train_size=.80)\n",
    "    model = lm.LinearRegression(n_jobs=-1)\n",
    "    model.fit(Xtr, ytr)\n",
    "    cov_scores[value] = np.abs(model.score(Xte, yte))\n",
    "    cov_predict[value] = model.predict(Xte)\n",
    "cov_scores = pd.Series(cov_scores)"
   ]
  },
  {
   "cell_type": "code",
   "execution_count": 231,
   "metadata": {},
   "outputs": [
    {
     "data": {
      "text/plain": [
       "<matplotlib.collections.PathCollection at 0x11bf780b8>"
      ]
     },
     "execution_count": 231,
     "metadata": {},
     "output_type": "execute_result"
    },
    {
     "data": {
      "image/png": "[encoded data removed]",
      "text/plain": [
       "<matplotlib.figure.Figure at 0x11b695f98>"
      ]
     },
     "metadata": {},
     "output_type": "display_data"
    }
   ],
   "source": [
    "plt.scatter(cov_scores.index, cov_scores)"
   ]
  },
  {
   "cell_type": "code",
   "execution_count": 240,
   "metadata": {},
   "outputs": [],
   "source": [
    "# predicts = pd.DataFrame(*cov_predict.items())"
   ]
  },
  {
   "cell_type": "code",
   "execution_count": 257,
   "metadata": {
    "collapsed": true
   },
   "outputs": [],
   "source": [
    "houses = pd.read_csv('../data/train_withdummy.csv')\n",
    "min_r2 = .12\n",
    "max_cov_r2 = .78\n",
    "y_col = 'SalePrice'\n",
    "\n",
    "df = reduce_variables(houses, y_col, min_r2, max_cov_r2)"
   ]
  },
  {
   "cell_type": "code",
   "execution_count": 258,
   "metadata": {},
   "outputs": [
    {
     "data": {
      "text/plain": [
       "(96,)"
      ]
     },
     "execution_count": 258,
     "metadata": {},
     "output_type": "execute_result"
    }
   ],
   "source": [
    "df.columns.shape"
   ]
  },
  {
   "cell_type": "code",
   "execution_count": 259,
   "metadata": {
    "collapsed": true
   },
   "outputs": [],
   "source": [
    "y = df['SalePrice']\n",
    "X = df.drop('SalePrice', axis=1)\n",
    "Xtr, Xte, ytr, yte = ms.train_test_split(X, y, train_size=.80)\n",
    "model = lm.LinearRegression(n_jobs=-1)\n",
    "model.fit(Xtr, ytr)\n",
    "score = np.abs(model.score(Xte, yte))\n",
    "predict  = model.predict(Xte)"
   ]
  },
  {
   "cell_type": "raw",
   "metadata": {},
   "source": []
  },
  {
   "cell_type": "code",
   "execution_count": 286,
   "metadata": {},
   "outputs": [],
   "source": [
    "num_cols = np.array([col for col in cols if '$' not in col])"
   ]
  },
  {
   "cell_type": "code",
   "execution_count": 288,
   "metadata": {},
   "outputs": [
    {
     "data": {
      "text/plain": [
       "array(['1stFlrSF', '2ndFlrSF', 'BedroomAbvGr', 'BsmtFinSF1',\n",
       "       'BsmtFullBath', 'BsmtUnfSF', 'EnclosedPorch', 'Fireplaces',\n",
       "       'FullBath', 'GarageArea', 'GarageYrBlt', 'HalfBath', 'KitchenAbvGr',\n",
       "       'LotArea', 'LotFrontage', 'MasVnrArea', 'OpenPorchSF',\n",
       "       'TotRmsAbvGrd', 'WoodDeckSF', 'YearBuilt', 'YearRemodAdd'], \n",
       "      dtype='<U13')"
      ]
     },
     "execution_count": 288,
     "metadata": {},
     "output_type": "execute_result"
    }
   ],
   "source": [
    "num_cols"
   ]
  },
  {
   "cell_type": "code",
   "execution_count": 290,
   "metadata": {},
   "outputs": [],
   "source": [
    "ggg = df[df.columns[0]]"
   ]
  },
  {
   "cell_type": "code",
   "execution_count": 296,
   "metadata": {
    "collapsed": true
   },
   "outputs": [],
   "source": [
    "def _app_squared(x):\n",
    "    return x*x\n",
    "\n",
    "def _app_log(x):\n",
    "    return np.log(x)\n",
    "\n",
    "def _app_sqrt(x):\n",
    "    return np.sqrt(x)\n",
    "\n",
    "def _app_cube(x):\n",
    "    return x*x*x\n",
    "\n",
    "def _app_exp(x):\n",
    "    return np.exp(x)\n",
    "\n",
    "func_dic = {'sqr': _app_squared, 'log': _app_log, 'sqrt' : _app_sqrt, 'cube': _app_cube, 'exp': _app_exp} "
   ]
  },
  {
   "cell_type": "code",
   "execution_count": 325,
   "metadata": {},
   "outputs": [
    {
     "name": "stdout",
     "output_type": "stream",
     "text": [
      "poop\n"
     ]
    }
   ],
   "source": [
    "(np.isfinite(df[col]) == False).sum():\n",
    "    print('poop')"
   ]
  },
  {
   "cell_type": "code",
   "execution_count": 300,
   "metadata": {},
   "outputs": [],
   "source": [
    "col = num_cols[0]\n",
    "\n",
    "df_t = df.copy()\n",
    "# df_t[col].apply(func_dic['sqr'])\n",
    "y = df_t['SalePrice']\n",
    "X = df_t.drop('SalePrice', axis=1)\n",
    "Xtr, Xte, ytr, yte = ms.train_test_split(X, y, train_size=.80)\n",
    "model = lm.LinearRegression(n_jobs=-1)\n",
    "model.fit(Xtr, ytr)\n",
    "score = np.abs(model.score(Xte, yte))\n",
    "# predict  = model.predict(Xte)"
   ]
  },
  {
   "cell_type": "code",
   "execution_count": 302,
   "metadata": {},
   "outputs": [],
   "source": [
    "base_score = score"
   ]
  },
  {
   "cell_type": "code",
   "execution_count": 306,
   "metadata": {},
   "outputs": [
    {
     "name": "stdout",
     "output_type": "stream",
     "text": [
      "/Users/travis/Documents/Education/SMU/OneDrive - Southern Methodist University/Code/ds6371_group\n"
     ]
    }
   ],
   "source": [
    "cd .."
   ]
  },
  {
   "cell_type": "code",
   "execution_count": 307,
   "metadata": {
    "collapsed": true
   },
   "outputs": [],
   "source": [
    "from src import pyfunctions"
   ]
  },
  {
   "cell_type": "code",
   "execution_count": 396,
   "metadata": {},
   "outputs": [
    {
     "name": "stderr",
     "output_type": "stream",
     "text": [
      "/Users/travis/anaconda/lib/python3.6/site-packages/ipykernel_launcher.py:1: SettingWithCopyWarning: \n",
      "A value is trying to be set on a copy of a slice from a DataFrame.\n",
      "Try using .loc[row_indexer,col_indexer] = value instead\n",
      "\n",
      "See the caveats in the documentation: http://pandas.pydata.org/pandas-docs/stable/indexing.html#indexing-view-versus-copy\n",
      "  \"\"\"Entry point for launching an IPython kernel.\n"
     ]
    }
   ],
   "source": [
    "df['SalePrice'] = np.exp(df['SalePrice']) - .0001"
   ]
  },
  {
   "cell_type": "code",
   "execution_count": 397,
   "metadata": {},
   "outputs": [
    {
     "name": "stderr",
     "output_type": "stream",
     "text": [
      "/Users/travis/Documents/Education/SMU/OneDrive - Southern Methodist University/Code/ds6371_group/src/pyfunctions.py:163: SettingWithCopyWarning: \n",
      "A value is trying to be set on a copy of a slice from a DataFrame.\n",
      "Try using .loc[row_indexer,col_indexer] = value instead\n",
      "\n",
      "See the caveats in the documentation: http://pandas.pydata.org/pandas-docs/stable/indexing.html#indexing-view-versus-copy\n"
     ]
    }
   ],
   "source": [
    "outs = pyfunctions.transform_numerics(df, delim='$')"
   ]
  },
  {
   "cell_type": "code",
   "execution_count": null,
   "metadata": {
    "collapsed": true
   },
   "outputs": [],
   "source": []
  },
  {
   "cell_type": "code",
   "execution_count": 398,
   "metadata": {},
   "outputs": [],
   "source": [
    "outpos = outs[outs > 0]"
   ]
  },
  {
   "cell_type": "code",
   "execution_count": 399,
   "metadata": {},
   "outputs": [
    {
     "data": {
      "text/html": [
       "<div>\n",
       "<style>\n",
       "    .dataframe thead tr:only-child th {\n",
       "        text-align: right;\n",
       "    }\n",
       "\n",
       "    .dataframe thead th {\n",
       "        text-align: left;\n",
       "    }\n",
       "\n",
       "    .dataframe tbody tr th {\n",
       "        vertical-align: top;\n",
       "    }\n",
       "</style>\n",
       "<table border=\"1\" class=\"dataframe\">\n",
       "  <thead>\n",
       "    <tr style=\"text-align: right;\">\n",
       "      <th></th>\n",
       "      <th>diff</th>\n",
       "      <th>score</th>\n",
       "    </tr>\n",
       "  </thead>\n",
       "  <tbody>\n",
       "    <tr>\n",
       "      <th>BsmtFinSF1$cube</th>\n",
       "      <td>0.009118</td>\n",
       "      <td>0.878112</td>\n",
       "    </tr>\n",
       "    <tr>\n",
       "      <th>2ndFlrSF$cube</th>\n",
       "      <td>0.007845</td>\n",
       "      <td>0.876839</td>\n",
       "    </tr>\n",
       "    <tr>\n",
       "      <th>KitchenAbvGr$log</th>\n",
       "      <td>0.000165</td>\n",
       "      <td>0.869159</td>\n",
       "    </tr>\n",
       "    <tr>\n",
       "      <th>FullBath$sqrt</th>\n",
       "      <td>0.000142</td>\n",
       "      <td>0.869136</td>\n",
       "    </tr>\n",
       "    <tr>\n",
       "      <th>OpenPorchSF$log</th>\n",
       "      <td>0.000075</td>\n",
       "      <td>0.869069</td>\n",
       "    </tr>\n",
       "    <tr>\n",
       "      <th>YearRemodAdd$cube</th>\n",
       "      <td>0.000006</td>\n",
       "      <td>0.869001</td>\n",
       "    </tr>\n",
       "    <tr>\n",
       "      <th>GarageYrBlt$sqr</th>\n",
       "      <td>NaN</td>\n",
       "      <td>0.868991</td>\n",
       "    </tr>\n",
       "    <tr>\n",
       "      <th>YearBuilt$log</th>\n",
       "      <td>NaN</td>\n",
       "      <td>0.868988</td>\n",
       "    </tr>\n",
       "    <tr>\n",
       "      <th>BsmtFullBath$log</th>\n",
       "      <td>NaN</td>\n",
       "      <td>0.868936</td>\n",
       "    </tr>\n",
       "    <tr>\n",
       "      <th>EnclosedPorch$sqrt</th>\n",
       "      <td>NaN</td>\n",
       "      <td>0.868873</td>\n",
       "    </tr>\n",
       "    <tr>\n",
       "      <th>TotRmsAbvGrd$sqrt</th>\n",
       "      <td>NaN</td>\n",
       "      <td>0.868806</td>\n",
       "    </tr>\n",
       "    <tr>\n",
       "      <th>HalfBath$log</th>\n",
       "      <td>NaN</td>\n",
       "      <td>0.868654</td>\n",
       "    </tr>\n",
       "    <tr>\n",
       "      <th>LotFrontage$cube</th>\n",
       "      <td>NaN</td>\n",
       "      <td>0.868388</td>\n",
       "    </tr>\n",
       "    <tr>\n",
       "      <th>Fireplaces$sqrt</th>\n",
       "      <td>NaN</td>\n",
       "      <td>0.868217</td>\n",
       "    </tr>\n",
       "    <tr>\n",
       "      <th>BsmtUnfSF$sqrt</th>\n",
       "      <td>NaN</td>\n",
       "      <td>0.868155</td>\n",
       "    </tr>\n",
       "    <tr>\n",
       "      <th>WoodDeckSF$sqrt</th>\n",
       "      <td>NaN</td>\n",
       "      <td>0.868048</td>\n",
       "    </tr>\n",
       "    <tr>\n",
       "      <th>BedroomAbvGr$sqrt</th>\n",
       "      <td>NaN</td>\n",
       "      <td>0.867874</td>\n",
       "    </tr>\n",
       "    <tr>\n",
       "      <th>GarageArea$log</th>\n",
       "      <td>NaN</td>\n",
       "      <td>0.867777</td>\n",
       "    </tr>\n",
       "    <tr>\n",
       "      <th>MasVnrArea$sqr</th>\n",
       "      <td>NaN</td>\n",
       "      <td>0.865832</td>\n",
       "    </tr>\n",
       "    <tr>\n",
       "      <th>LotArea$log</th>\n",
       "      <td>NaN</td>\n",
       "      <td>0.852684</td>\n",
       "    </tr>\n",
       "    <tr>\n",
       "      <th>1stFlrSF$sqrt</th>\n",
       "      <td>NaN</td>\n",
       "      <td>0.846793</td>\n",
       "    </tr>\n",
       "  </tbody>\n",
       "</table>\n",
       "</div>"
      ],
      "text/plain": [
       "                        diff     score\n",
       "BsmtFinSF1$cube     0.009118  0.878112\n",
       "2ndFlrSF$cube       0.007845  0.876839\n",
       "KitchenAbvGr$log    0.000165  0.869159\n",
       "FullBath$sqrt       0.000142  0.869136\n",
       "OpenPorchSF$log     0.000075  0.869069\n",
       "YearRemodAdd$cube   0.000006  0.869001\n",
       "GarageYrBlt$sqr          NaN  0.868991\n",
       "YearBuilt$log            NaN  0.868988\n",
       "BsmtFullBath$log         NaN  0.868936\n",
       "EnclosedPorch$sqrt       NaN  0.868873\n",
       "TotRmsAbvGrd$sqrt        NaN  0.868806\n",
       "HalfBath$log             NaN  0.868654\n",
       "LotFrontage$cube         NaN  0.868388\n",
       "Fireplaces$sqrt          NaN  0.868217\n",
       "BsmtUnfSF$sqrt           NaN  0.868155\n",
       "WoodDeckSF$sqrt          NaN  0.868048\n",
       "BedroomAbvGr$sqrt        NaN  0.867874\n",
       "GarageArea$log           NaN  0.867777\n",
       "MasVnrArea$sqr           NaN  0.865832\n",
       "LotArea$log              NaN  0.852684\n",
       "1stFlrSF$sqrt            NaN  0.846793"
      ]
     },
     "execution_count": 399,
     "metadata": {},
     "output_type": "execute_result"
    }
   ],
   "source": [
    "outpos"
   ]
  },
  {
   "cell_type": "code",
   "execution_count": 362,
   "metadata": {},
   "outputs": [],
   "source": [
    "transforms = {val.split('$')[0]: val.split('$')[1] for val in outpos.index}"
   ]
  },
  {
   "cell_type": "code",
   "execution_count": 363,
   "metadata": {},
   "outputs": [
    {
     "data": {
      "text/plain": [
       "{'1stFlrSF': 'sqrt',\n",
       " '2ndFlrSF': 'cube',\n",
       " 'BedroomAbvGr': 'sqrt',\n",
       " 'BsmtFinSF1': 'cube',\n",
       " 'BsmtFullBath': 'log',\n",
       " 'BsmtUnfSF': 'sqrt',\n",
       " 'EnclosedPorch': 'sqrt',\n",
       " 'Fireplaces': 'sqrt',\n",
       " 'FullBath': 'sqrt',\n",
       " 'GarageArea': 'log',\n",
       " 'GarageYrBlt': 'sqr',\n",
       " 'HalfBath': 'log',\n",
       " 'KitchenAbvGr': 'log',\n",
       " 'LotArea': 'log',\n",
       " 'LotFrontage': 'cube',\n",
       " 'MasVnrArea': 'sqr',\n",
       " 'OpenPorchSF': 'log',\n",
       " 'TotRmsAbvGrd': 'sqrt',\n",
       " 'WoodDeckSF': 'sqrt',\n",
       " 'YearBuilt': 'log',\n",
       " 'YearRemodAdd': 'cube'}"
      ]
     },
     "execution_count": 363,
     "metadata": {},
     "output_type": "execute_result"
    }
   ],
   "source": [
    "transforms"
   ]
  },
  {
   "cell_type": "code",
   "execution_count": 368,
   "metadata": {
    "collapsed": true
   },
   "outputs": [],
   "source": [
    "tdf = df.copy()"
   ]
  },
  {
   "cell_type": "code",
   "execution_count": 369,
   "metadata": {
    "collapsed": true
   },
   "outputs": [],
   "source": [
    "for key, val in transforms.items():\n",
    "    tdf[key] = (tdf[key]+ .00001).apply(func_dic[val])"
   ]
  },
  {
   "cell_type": "code",
   "execution_count": 389,
   "metadata": {},
   "outputs": [],
   "source": [
    "df_t = tdf.copy()\n",
    "# df_t[col].apply(func_dic['sqr'])\n",
    "y = np.log(df_t['SalePrice'] + .0001)\n",
    "X = df_t.drop('SalePrice', axis=1)\n",
    "Xtr, Xte, ytr, yte = ms.train_test_split(X, y, train_size=.80)\n",
    "model = lm.LinearRegression(n_jobs=-1)\n",
    "model.fit(Xtr, ytr)\n",
    "score = np.abs(model.score(Xte, yte))"
   ]
  },
  {
   "cell_type": "code",
   "execution_count": 402,
   "metadata": {},
   "outputs": [
    {
     "data": {
      "text/plain": [
       "0.87195034965375939"
      ]
     },
     "execution_count": 402,
     "metadata": {},
     "output_type": "execute_result"
    }
   ],
   "source": [
    "score"
   ]
  },
  {
   "cell_type": "code",
   "execution_count": 379,
   "metadata": {
    "collapsed": true
   },
   "outputs": [],
   "source": [
    "import json"
   ]
  },
  {
   "cell_type": "code",
   "execution_count": 383,
   "metadata": {},
   "outputs": [],
   "source": [
    "with open('../data/custom_transforms.json', 'w') as jfile:\n",
    "    json.dump(transforms, jfile)"
   ]
  },
  {
   "cell_type": "code",
   "execution_count": 384,
   "metadata": {
    "collapsed": true
   },
   "outputs": [],
   "source": [
    "with open('../data/custom_columns', 'w') as colfile:\n",
    "    colfile.write('\\n'.join(df.columns))"
   ]
  },
  {
   "cell_type": "code",
   "execution_count": 400,
   "metadata": {
    "collapsed": true
   },
   "outputs": [],
   "source": [
    "coefs = model.coef_"
   ]
  },
  {
   "cell_type": "code",
   "execution_count": 408,
   "metadata": {},
   "outputs": [
    {
     "data": {
      "text/plain": [
       "RangeIndex(start=0, stop=96, step=1)"
      ]
     },
     "execution_count": 408,
     "metadata": {},
     "output_type": "execute_result"
    }
   ],
   "source": [
    "pd.Series(df.columns).index = coefs"
   ]
  },
  {
   "cell_type": "code",
   "execution_count": 404,
   "metadata": {},
   "outputs": [
    {
     "ename": "TypeError",
     "evalue": "string indices must be integers",
     "output_type": "error",
     "traceback": [
      "\u001b[0;31m---------------------------------------------------------------------------\u001b[0m",
      "\u001b[0;31mTypeError\u001b[0m                                 Traceback (most recent call last)",
      "\u001b[0;32m<ipython-input-404-68c49029ebd2>\u001b[0m in \u001b[0;36m<module>\u001b[0;34m()\u001b[0m\n\u001b[0;32m----> 1\u001b[0;31m \u001b[0mploof\u001b[0m \u001b[0;34m=\u001b[0m \u001b[0;34m[\u001b[0m\u001b[0;32mTrue\u001b[0m \u001b[0;32mfor\u001b[0m \u001b[0mcol\u001b[0m \u001b[0;32min\u001b[0m \u001b[0mdf\u001b[0m\u001b[0;34m.\u001b[0m\u001b[0mcolumns\u001b[0m \u001b[0;32mif\u001b[0m \u001b[0mcol\u001b[0m\u001b[0;34m[\u001b[0m\u001b[0;34m'min'\u001b[0m\u001b[0;34m]\u001b[0m \u001b[0;34m>\u001b[0m \u001b[0;36m0\u001b[0m\u001b[0;34m]\u001b[0m\u001b[0;34m\u001b[0m\u001b[0m\n\u001b[0m",
      "\u001b[0;32m<ipython-input-404-68c49029ebd2>\u001b[0m in \u001b[0;36m<listcomp>\u001b[0;34m(.0)\u001b[0m\n\u001b[0;32m----> 1\u001b[0;31m \u001b[0mploof\u001b[0m \u001b[0;34m=\u001b[0m \u001b[0;34m[\u001b[0m\u001b[0;32mTrue\u001b[0m \u001b[0;32mfor\u001b[0m \u001b[0mcol\u001b[0m \u001b[0;32min\u001b[0m \u001b[0mdf\u001b[0m\u001b[0;34m.\u001b[0m\u001b[0mcolumns\u001b[0m \u001b[0;32mif\u001b[0m \u001b[0mcol\u001b[0m\u001b[0;34m[\u001b[0m\u001b[0;34m'min'\u001b[0m\u001b[0;34m]\u001b[0m \u001b[0;34m>\u001b[0m \u001b[0;36m0\u001b[0m\u001b[0;34m]\u001b[0m\u001b[0;34m\u001b[0m\u001b[0m\n\u001b[0m",
      "\u001b[0;31mTypeError\u001b[0m: string indices must be integers"
     ]
    }
   ],
   "source": [
    "ploof = [True for col in df.columns if col.min() < 0]"
   ]
  },
  {
   "cell_type": "code",
   "execution_count": 421,
   "metadata": {},
   "outputs": [],
   "source": [
    "coef_frame = pd.Series(coefs[0,:])\n",
    "coef_frame.index = X.columns"
   ]
  },
  {
   "cell_type": "code",
   "execution_count": 423,
   "metadata": {},
   "outputs": [
    {
     "name": "stdout",
     "output_type": "stream",
     "text": [
      "1stFlrSF -- 0.01803283475668118\n",
      "2ndFlrSF -- 6.108503774274317e-11\n",
      "Alley$Grvl -- 0.026346825455716292\n",
      "BedroomAbvGr -- -0.02043749560078317\n",
      "BldgType$1Fam -- 0.04321629783727441\n",
      "BsmtCond$Fa -- -0.09482915031369324\n",
      "BsmtExposure$Av -- 0.002518547385451748\n",
      "BsmtExposure$Gd -- 0.0634192475818646\n",
      "BsmtExposure$No -- -0.017525328527860463\n",
      "BsmtFinSF1 -- -7.485042100019434e-12\n",
      "BsmtFinType1$BLQ -- 0.00825324743949561\n",
      "BsmtFinType1$GLQ -- 0.031507252935591805\n",
      "BsmtFinType1$Rec -- 0.0065326585651782326\n",
      "BsmtFullBath -- 0.0023092356812852294\n",
      "BsmtQual$Ex -- 0.3193965233701003\n",
      "BsmtQual$Fa -- 0.189022495045605\n",
      "BsmtQual$Gd -- 0.2504471934532264\n",
      "BsmtQual$TA -- 0.2104585592266932\n",
      "BsmtUnfSF -- -0.0015321388749186815\n",
      "CentralAir$Y -- 0.10895320440024751\n",
      "Electrical$FuseA -- 0.012513532236637445\n",
      "Electrical$FuseF -- 0.03041101078006026\n",
      "EnclosedPorch -- 0.0008244616297035439\n",
      "ExterCond$Fa -- -0.11895061889097366\n",
      "ExterQual$Ex -- 0.05475171127357421\n",
      "ExterQual$Gd -- 0.03742436804977661\n",
      "Exterior1st$CemntBd -- -0.04692007439048712\n",
      "Exterior1st$MetalSd -- 0.021004264560756703\n",
      "Exterior1st$VinylSd -- 0.006377448181408205\n",
      "Exterior2nd$Wd Sdng -- 0.01741337669151377\n",
      "Fence$MnPrv -- -0.014305600635262913\n",
      "FireplaceQu$Ex -- 0.004403192793665956\n",
      "FireplaceQu$Gd -- 0.012040913981193375\n",
      "FireplaceQu$TA -- 0.0026794492003393016\n",
      "Fireplaces -- 0.04632083979930211\n",
      "Foundation$BrkTil -- 0.006179780006952647\n",
      "Foundation$PConc -- 0.026500270700637082\n",
      "FullBath -- 0.1135387282437778\n",
      "GarageArea -- 0.06924099385679806\n",
      "GarageCond$Fa -- -0.02964693001462103\n",
      "GarageFinish$Fin -- 0.2193833194257841\n",
      "GarageFinish$RFn -- 0.20195753474001688\n",
      "GarageFinish$Unf -- 0.19965025220125251\n",
      "GarageQual$Fa -- -0.11843224457395672\n",
      "GarageQual$TA -- -0.09646262387946353\n",
      "GarageType$Attchd -- 0.06937457458449468\n",
      "GarageType$BuiltIn -- 0.046745278042449434\n",
      "GarageType$Detchd -- 0.06930269620246013\n",
      "GarageYrBlt -- -3.2634602128989165e-07\n",
      "HalfBath -- 0.006210489738016904\n",
      "HeatingQC$Ex -- 0.15509249473391132\n",
      "HeatingQC$Fa -- 0.10722254914534494\n",
      "HeatingQC$Gd -- 0.12827736263532752\n",
      "HeatingQC$TA -- 0.1283031599272279\n",
      "KitchenAbvGr -- -0.050653088678382314\n",
      "KitchenQual$Ex -- 0.11963480798027917\n",
      "KitchenQual$Fa -- 0.023950511160829486\n",
      "KitchenQual$Gd -- 0.03421773193429695\n",
      "LandContour$HLS -- 0.05300799747041734\n",
      "LotArea -- 0.07075910295649111\n",
      "LotConfig$CulDSac -- 0.030395640198773787\n",
      "LotFrontage -- -6.52543760693014e-09\n",
      "LotShape$IR2 -- 0.006060600929111458\n",
      "LotShape$Reg -- 0.014138282185896217\n",
      "MSSubClass$1-1/2 STORY FINISHED ALL AGES -- -0.0023502794917688976\n",
      "MSSubClass$1-STORY 1945 & OLDER -- -0.18172885744825706\n",
      "MSSubClass$2-STORY 1946 & NEWER -- 0.016204251399864585\n",
      "MSZoning$RM -- -0.010045896978811418\n",
      "MasVnrArea -- 2.3963834333562417e-08\n",
      "MasVnrType$None -- -0.009702035335045125\n",
      "MasVnrType$Stone -- 0.013769784058241148\n",
      "Neighborhood$BrkSide -- 0.005087126459350033\n",
      "Neighborhood$Edwards -- -0.09573966459987993\n",
      "Neighborhood$IDOTRR -- -0.10180354628092463\n",
      "Neighborhood$NAmes -- -0.06168654312279288\n",
      "Neighborhood$NoRidge -- 0.10462088604211488\n",
      "Neighborhood$NridgHt -- 0.12063021444294769\n",
      "Neighborhood$OldTown -- -0.08098544486103433\n",
      "Neighborhood$Sawyer -- -0.08289934450630229\n",
      "Neighborhood$Somerst -- 0.11596620907536619\n",
      "Neighborhood$StoneBr -- 0.18578036793143474\n",
      "Neighborhood$Timber -- -0.0018524994775568646\n",
      "OpenPorchSF -- 0.001038713692087266\n",
      "PavedDrive$Y -- 0.04273932781111474\n",
      "PoolQC$Ex -- -0.02405092464640901\n",
      "RoofMatl$WdShngl -- 0.10895153358550598\n",
      "RoofStyle$Gable -- -0.007694047002657335\n",
      "SaleCondition$Normal -- 0.07609294356439131\n",
      "SaleCondition$Partial -- 0.08299535631077985\n",
      "SaleType$WD -- -0.017075010622717636\n",
      "TotRmsAbvGrd -- 0.10755992692692348\n",
      "WoodDeckSF -- 0.0007896888020548776\n",
      "YearBuilt -- -0.14037241610868478\n",
      "YearRemodAdd -- 1.5748369969204035e-10\n"
     ]
    }
   ],
   "source": [
    "for line, val in coef_frame.items():\n",
    "    print('{} -- {}'.format(line, val))"
   ]
  },
  {
   "cell_type": "code",
   "execution_count": 430,
   "metadata": {},
   "outputs": [
    {
     "data": {
      "text/plain": [
       "'/Users/travis/Documents/Education/SMU/OneDrive - Southern Methodist University/Code/ds6371_group'"
      ]
     },
     "execution_count": 430,
     "metadata": {},
     "output_type": "execute_result"
    }
   ],
   "source": [
    "pwd"
   ]
  },
  {
   "cell_type": "code",
   "execution_count": 432,
   "metadata": {},
   "outputs": [
    {
     "ename": "KeyError",
     "evalue": "'SaleType'",
     "output_type": "error",
     "traceback": [
      "\u001b[0;31m---------------------------------------------------------------------------\u001b[0m",
      "\u001b[0;31mKeyError\u001b[0m                                  Traceback (most recent call last)",
      "\u001b[0;32m/Users/travis/anaconda/lib/python3.6/site-packages/pandas/core/indexes/base.py\u001b[0m in \u001b[0;36mget_loc\u001b[0;34m(self, key, method, tolerance)\u001b[0m\n\u001b[1;32m   2392\u001b[0m             \u001b[0;32mtry\u001b[0m\u001b[0;34m:\u001b[0m\u001b[0;34m\u001b[0m\u001b[0m\n\u001b[0;32m-> 2393\u001b[0;31m                 \u001b[0;32mreturn\u001b[0m \u001b[0mself\u001b[0m\u001b[0;34m.\u001b[0m\u001b[0m_engine\u001b[0m\u001b[0;34m.\u001b[0m\u001b[0mget_loc\u001b[0m\u001b[0;34m(\u001b[0m\u001b[0mkey\u001b[0m\u001b[0;34m)\u001b[0m\u001b[0;34m\u001b[0m\u001b[0m\n\u001b[0m\u001b[1;32m   2394\u001b[0m             \u001b[0;32mexcept\u001b[0m \u001b[0mKeyError\u001b[0m\u001b[0;34m:\u001b[0m\u001b[0;34m\u001b[0m\u001b[0m\n",
      "\u001b[0;32mpandas/_libs/index.pyx\u001b[0m in \u001b[0;36mpandas._libs.index.IndexEngine.get_loc (pandas/_libs/index.c:5239)\u001b[0;34m()\u001b[0m\n",
      "\u001b[0;32mpandas/_libs/index.pyx\u001b[0m in \u001b[0;36mpandas._libs.index.IndexEngine.get_loc (pandas/_libs/index.c:5085)\u001b[0;34m()\u001b[0m\n",
      "\u001b[0;32mpandas/_libs/hashtable_class_helper.pxi\u001b[0m in \u001b[0;36mpandas._libs.hashtable.PyObjectHashTable.get_item (pandas/_libs/hashtable.c:20405)\u001b[0;34m()\u001b[0m\n",
      "\u001b[0;32mpandas/_libs/hashtable_class_helper.pxi\u001b[0m in \u001b[0;36mpandas._libs.hashtable.PyObjectHashTable.get_item (pandas/_libs/hashtable.c:20359)\u001b[0;34m()\u001b[0m\n",
      "\u001b[0;31mKeyError\u001b[0m: 'SaleType'",
      "\nDuring handling of the above exception, another exception occurred:\n",
      "\u001b[0;31mKeyError\u001b[0m                                  Traceback (most recent call last)",
      "\u001b[0;32m<ipython-input-432-4efa0b58edcb>\u001b[0m in \u001b[0;36m<module>\u001b[0;34m()\u001b[0m\n\u001b[1;32m      1\u001b[0m \u001b[0mhs\u001b[0m \u001b[0;34m=\u001b[0m \u001b[0mpd\u001b[0m\u001b[0;34m.\u001b[0m\u001b[0mread_csv\u001b[0m\u001b[0;34m(\u001b[0m\u001b[0;34m'train.csv'\u001b[0m\u001b[0;34m)\u001b[0m\u001b[0;34m\u001b[0m\u001b[0m\n\u001b[0;32m----> 2\u001b[0;31m \u001b[0mhouses\u001b[0m\u001b[0;34m[\u001b[0m\u001b[0;34m'SaleType'\u001b[0m\u001b[0;34m]\u001b[0m\u001b[0;34m.\u001b[0m\u001b[0mvalue_counts\u001b[0m\u001b[0;34m(\u001b[0m\u001b[0;34m)\u001b[0m\u001b[0;34m\u001b[0m\u001b[0m\n\u001b[0m",
      "\u001b[0;32m/Users/travis/anaconda/lib/python3.6/site-packages/pandas/core/frame.py\u001b[0m in \u001b[0;36m__getitem__\u001b[0;34m(self, key)\u001b[0m\n\u001b[1;32m   2060\u001b[0m             \u001b[0;32mreturn\u001b[0m \u001b[0mself\u001b[0m\u001b[0;34m.\u001b[0m\u001b[0m_getitem_multilevel\u001b[0m\u001b[0;34m(\u001b[0m\u001b[0mkey\u001b[0m\u001b[0;34m)\u001b[0m\u001b[0;34m\u001b[0m\u001b[0m\n\u001b[1;32m   2061\u001b[0m         \u001b[0;32melse\u001b[0m\u001b[0;34m:\u001b[0m\u001b[0;34m\u001b[0m\u001b[0m\n\u001b[0;32m-> 2062\u001b[0;31m             \u001b[0;32mreturn\u001b[0m \u001b[0mself\u001b[0m\u001b[0;34m.\u001b[0m\u001b[0m_getitem_column\u001b[0m\u001b[0;34m(\u001b[0m\u001b[0mkey\u001b[0m\u001b[0;34m)\u001b[0m\u001b[0;34m\u001b[0m\u001b[0m\n\u001b[0m\u001b[1;32m   2063\u001b[0m \u001b[0;34m\u001b[0m\u001b[0m\n\u001b[1;32m   2064\u001b[0m     \u001b[0;32mdef\u001b[0m \u001b[0m_getitem_column\u001b[0m\u001b[0;34m(\u001b[0m\u001b[0mself\u001b[0m\u001b[0;34m,\u001b[0m \u001b[0mkey\u001b[0m\u001b[0;34m)\u001b[0m\u001b[0;34m:\u001b[0m\u001b[0;34m\u001b[0m\u001b[0m\n",
      "\u001b[0;32m/Users/travis/anaconda/lib/python3.6/site-packages/pandas/core/frame.py\u001b[0m in \u001b[0;36m_getitem_column\u001b[0;34m(self, key)\u001b[0m\n\u001b[1;32m   2067\u001b[0m         \u001b[0;31m# get column\u001b[0m\u001b[0;34m\u001b[0m\u001b[0;34m\u001b[0m\u001b[0m\n\u001b[1;32m   2068\u001b[0m         \u001b[0;32mif\u001b[0m \u001b[0mself\u001b[0m\u001b[0;34m.\u001b[0m\u001b[0mcolumns\u001b[0m\u001b[0;34m.\u001b[0m\u001b[0mis_unique\u001b[0m\u001b[0;34m:\u001b[0m\u001b[0;34m\u001b[0m\u001b[0m\n\u001b[0;32m-> 2069\u001b[0;31m             \u001b[0;32mreturn\u001b[0m \u001b[0mself\u001b[0m\u001b[0;34m.\u001b[0m\u001b[0m_get_item_cache\u001b[0m\u001b[0;34m(\u001b[0m\u001b[0mkey\u001b[0m\u001b[0;34m)\u001b[0m\u001b[0;34m\u001b[0m\u001b[0m\n\u001b[0m\u001b[1;32m   2070\u001b[0m \u001b[0;34m\u001b[0m\u001b[0m\n\u001b[1;32m   2071\u001b[0m         \u001b[0;31m# duplicate columns & possible reduce dimensionality\u001b[0m\u001b[0;34m\u001b[0m\u001b[0;34m\u001b[0m\u001b[0m\n",
      "\u001b[0;32m/Users/travis/anaconda/lib/python3.6/site-packages/pandas/core/generic.py\u001b[0m in \u001b[0;36m_get_item_cache\u001b[0;34m(self, item)\u001b[0m\n\u001b[1;32m   1532\u001b[0m         \u001b[0mres\u001b[0m \u001b[0;34m=\u001b[0m \u001b[0mcache\u001b[0m\u001b[0;34m.\u001b[0m\u001b[0mget\u001b[0m\u001b[0;34m(\u001b[0m\u001b[0mitem\u001b[0m\u001b[0;34m)\u001b[0m\u001b[0;34m\u001b[0m\u001b[0m\n\u001b[1;32m   1533\u001b[0m         \u001b[0;32mif\u001b[0m \u001b[0mres\u001b[0m \u001b[0;32mis\u001b[0m \u001b[0;32mNone\u001b[0m\u001b[0;34m:\u001b[0m\u001b[0;34m\u001b[0m\u001b[0m\n\u001b[0;32m-> 1534\u001b[0;31m             \u001b[0mvalues\u001b[0m \u001b[0;34m=\u001b[0m \u001b[0mself\u001b[0m\u001b[0;34m.\u001b[0m\u001b[0m_data\u001b[0m\u001b[0;34m.\u001b[0m\u001b[0mget\u001b[0m\u001b[0;34m(\u001b[0m\u001b[0mitem\u001b[0m\u001b[0;34m)\u001b[0m\u001b[0;34m\u001b[0m\u001b[0m\n\u001b[0m\u001b[1;32m   1535\u001b[0m             \u001b[0mres\u001b[0m \u001b[0;34m=\u001b[0m \u001b[0mself\u001b[0m\u001b[0;34m.\u001b[0m\u001b[0m_box_item_values\u001b[0m\u001b[0;34m(\u001b[0m\u001b[0mitem\u001b[0m\u001b[0;34m,\u001b[0m \u001b[0mvalues\u001b[0m\u001b[0;34m)\u001b[0m\u001b[0;34m\u001b[0m\u001b[0m\n\u001b[1;32m   1536\u001b[0m             \u001b[0mcache\u001b[0m\u001b[0;34m[\u001b[0m\u001b[0mitem\u001b[0m\u001b[0;34m]\u001b[0m \u001b[0;34m=\u001b[0m \u001b[0mres\u001b[0m\u001b[0;34m\u001b[0m\u001b[0m\n",
      "\u001b[0;32m/Users/travis/anaconda/lib/python3.6/site-packages/pandas/core/internals.py\u001b[0m in \u001b[0;36mget\u001b[0;34m(self, item, fastpath)\u001b[0m\n\u001b[1;32m   3588\u001b[0m \u001b[0;34m\u001b[0m\u001b[0m\n\u001b[1;32m   3589\u001b[0m             \u001b[0;32mif\u001b[0m \u001b[0;32mnot\u001b[0m \u001b[0misnull\u001b[0m\u001b[0;34m(\u001b[0m\u001b[0mitem\u001b[0m\u001b[0;34m)\u001b[0m\u001b[0;34m:\u001b[0m\u001b[0;34m\u001b[0m\u001b[0m\n\u001b[0;32m-> 3590\u001b[0;31m                 \u001b[0mloc\u001b[0m \u001b[0;34m=\u001b[0m \u001b[0mself\u001b[0m\u001b[0;34m.\u001b[0m\u001b[0mitems\u001b[0m\u001b[0;34m.\u001b[0m\u001b[0mget_loc\u001b[0m\u001b[0;34m(\u001b[0m\u001b[0mitem\u001b[0m\u001b[0;34m)\u001b[0m\u001b[0;34m\u001b[0m\u001b[0m\n\u001b[0m\u001b[1;32m   3591\u001b[0m             \u001b[0;32melse\u001b[0m\u001b[0;34m:\u001b[0m\u001b[0;34m\u001b[0m\u001b[0m\n\u001b[1;32m   3592\u001b[0m                 \u001b[0mindexer\u001b[0m \u001b[0;34m=\u001b[0m \u001b[0mnp\u001b[0m\u001b[0;34m.\u001b[0m\u001b[0marange\u001b[0m\u001b[0;34m(\u001b[0m\u001b[0mlen\u001b[0m\u001b[0;34m(\u001b[0m\u001b[0mself\u001b[0m\u001b[0;34m.\u001b[0m\u001b[0mitems\u001b[0m\u001b[0;34m)\u001b[0m\u001b[0;34m)\u001b[0m\u001b[0;34m[\u001b[0m\u001b[0misnull\u001b[0m\u001b[0;34m(\u001b[0m\u001b[0mself\u001b[0m\u001b[0;34m.\u001b[0m\u001b[0mitems\u001b[0m\u001b[0;34m)\u001b[0m\u001b[0;34m]\u001b[0m\u001b[0;34m\u001b[0m\u001b[0m\n",
      "\u001b[0;32m/Users/travis/anaconda/lib/python3.6/site-packages/pandas/core/indexes/base.py\u001b[0m in \u001b[0;36mget_loc\u001b[0;34m(self, key, method, tolerance)\u001b[0m\n\u001b[1;32m   2393\u001b[0m                 \u001b[0;32mreturn\u001b[0m \u001b[0mself\u001b[0m\u001b[0;34m.\u001b[0m\u001b[0m_engine\u001b[0m\u001b[0;34m.\u001b[0m\u001b[0mget_loc\u001b[0m\u001b[0;34m(\u001b[0m\u001b[0mkey\u001b[0m\u001b[0;34m)\u001b[0m\u001b[0;34m\u001b[0m\u001b[0m\n\u001b[1;32m   2394\u001b[0m             \u001b[0;32mexcept\u001b[0m \u001b[0mKeyError\u001b[0m\u001b[0;34m:\u001b[0m\u001b[0;34m\u001b[0m\u001b[0m\n\u001b[0;32m-> 2395\u001b[0;31m                 \u001b[0;32mreturn\u001b[0m \u001b[0mself\u001b[0m\u001b[0;34m.\u001b[0m\u001b[0m_engine\u001b[0m\u001b[0;34m.\u001b[0m\u001b[0mget_loc\u001b[0m\u001b[0;34m(\u001b[0m\u001b[0mself\u001b[0m\u001b[0;34m.\u001b[0m\u001b[0m_maybe_cast_indexer\u001b[0m\u001b[0;34m(\u001b[0m\u001b[0mkey\u001b[0m\u001b[0;34m)\u001b[0m\u001b[0;34m)\u001b[0m\u001b[0;34m\u001b[0m\u001b[0m\n\u001b[0m\u001b[1;32m   2396\u001b[0m \u001b[0;34m\u001b[0m\u001b[0m\n\u001b[1;32m   2397\u001b[0m         \u001b[0mindexer\u001b[0m \u001b[0;34m=\u001b[0m \u001b[0mself\u001b[0m\u001b[0;34m.\u001b[0m\u001b[0mget_indexer\u001b[0m\u001b[0;34m(\u001b[0m\u001b[0;34m[\u001b[0m\u001b[0mkey\u001b[0m\u001b[0;34m]\u001b[0m\u001b[0;34m,\u001b[0m \u001b[0mmethod\u001b[0m\u001b[0;34m=\u001b[0m\u001b[0mmethod\u001b[0m\u001b[0;34m,\u001b[0m \u001b[0mtolerance\u001b[0m\u001b[0;34m=\u001b[0m\u001b[0mtolerance\u001b[0m\u001b[0;34m)\u001b[0m\u001b[0;34m\u001b[0m\u001b[0m\n",
      "\u001b[0;32mpandas/_libs/index.pyx\u001b[0m in \u001b[0;36mpandas._libs.index.IndexEngine.get_loc (pandas/_libs/index.c:5239)\u001b[0;34m()\u001b[0m\n",
      "\u001b[0;32mpandas/_libs/index.pyx\u001b[0m in \u001b[0;36mpandas._libs.index.IndexEngine.get_loc (pandas/_libs/index.c:5085)\u001b[0;34m()\u001b[0m\n",
      "\u001b[0;32mpandas/_libs/hashtable_class_helper.pxi\u001b[0m in \u001b[0;36mpandas._libs.hashtable.PyObjectHashTable.get_item (pandas/_libs/hashtable.c:20405)\u001b[0;34m()\u001b[0m\n",
      "\u001b[0;32mpandas/_libs/hashtable_class_helper.pxi\u001b[0m in \u001b[0;36mpandas._libs.hashtable.PyObjectHashTable.get_item (pandas/_libs/hashtable.c:20359)\u001b[0;34m()\u001b[0m\n",
      "\u001b[0;31mKeyError\u001b[0m: 'SaleType'"
     ]
    }
   ],
   "source": [
    "hs = pd.read_csv('train.csv')\n",
    "houses['SaleType'].value_counts()"
   ]
  },
  {
   "cell_type": "code",
   "execution_count": 411,
   "metadata": {},
   "outputs": [
    {
     "name": "stdout",
     "output_type": "stream",
     "text": [
      "1stFlrSF\n",
      "2ndFlrSF\n",
      "Alley$Grvl\n",
      "BedroomAbvGr\n",
      "BldgType$1Fam\n",
      "BsmtCond$Fa\n",
      "BsmtExposure$Av\n",
      "BsmtExposure$Gd\n",
      "BsmtExposure$No\n",
      "BsmtFinSF1\n",
      "BsmtFinType1$BLQ\n",
      "BsmtFinType1$GLQ\n",
      "BsmtFinType1$Rec\n",
      "BsmtFullBath\n",
      "BsmtQual$Ex\n",
      "BsmtQual$Fa\n",
      "BsmtQual$Gd\n",
      "BsmtQual$TA\n",
      "BsmtUnfSF\n",
      "CentralAir$Y\n",
      "Electrical$FuseA\n",
      "Electrical$FuseF\n",
      "EnclosedPorch\n",
      "ExterCond$Fa\n",
      "ExterQual$Ex\n",
      "ExterQual$Gd\n",
      "Exterior1st$CemntBd\n",
      "Exterior1st$MetalSd\n",
      "Exterior1st$VinylSd\n",
      "Exterior2nd$Wd Sdng\n",
      "Fence$MnPrv\n",
      "FireplaceQu$Ex\n",
      "FireplaceQu$Gd\n",
      "FireplaceQu$TA\n",
      "Fireplaces\n",
      "Foundation$BrkTil\n",
      "Foundation$PConc\n",
      "FullBath\n",
      "GarageArea\n",
      "GarageCond$Fa\n",
      "GarageFinish$Fin\n",
      "GarageFinish$RFn\n",
      "GarageFinish$Unf\n",
      "GarageQual$Fa\n",
      "GarageQual$TA\n",
      "GarageType$Attchd\n",
      "GarageType$BuiltIn\n",
      "GarageType$Detchd\n",
      "GarageYrBlt\n",
      "HalfBath\n",
      "HeatingQC$Ex\n",
      "HeatingQC$Fa\n",
      "HeatingQC$Gd\n",
      "HeatingQC$TA\n",
      "KitchenAbvGr\n",
      "KitchenQual$Ex\n",
      "KitchenQual$Fa\n",
      "KitchenQual$Gd\n",
      "LandContour$HLS\n",
      "LotArea\n",
      "LotConfig$CulDSac\n",
      "LotFrontage\n",
      "LotShape$IR2\n",
      "LotShape$Reg\n",
      "MSSubClass$1-1/2 STORY FINISHED ALL AGES\n",
      "MSSubClass$1-STORY 1945 & OLDER\n",
      "MSSubClass$2-STORY 1946 & NEWER\n",
      "MSZoning$RM\n",
      "MasVnrArea\n",
      "MasVnrType$None\n",
      "MasVnrType$Stone\n",
      "Neighborhood$BrkSide\n",
      "Neighborhood$Edwards\n",
      "Neighborhood$IDOTRR\n",
      "Neighborhood$NAmes\n",
      "Neighborhood$NoRidge\n",
      "Neighborhood$NridgHt\n",
      "Neighborhood$OldTown\n",
      "Neighborhood$Sawyer\n",
      "Neighborhood$Somerst\n",
      "Neighborhood$StoneBr\n",
      "Neighborhood$Timber\n",
      "OpenPorchSF\n",
      "PavedDrive$Y\n",
      "PoolQC$Ex\n",
      "RoofMatl$WdShngl\n",
      "RoofStyle$Gable\n",
      "SaleCondition$Normal\n",
      "SaleCondition$Partial\n",
      "SalePrice\n",
      "SaleType$WD\n",
      "TotRmsAbvGrd\n",
      "WoodDeckSF\n",
      "YearBuilt\n",
      "YearRemodAdd\n",
      "SalePrice\n"
     ]
    }
   ],
   "source": [
    "for dat in df_t.columns:\n",
    "    print(dat)"
   ]
  },
  {
   "cell_type": "code",
   "execution_count": 428,
   "metadata": {},
   "outputs": [
    {
     "data": {
      "text/plain": [
       "SalePrice    163000.0\n",
       "SalePrice    163000.0\n",
       "dtype: float64"
      ]
     },
     "execution_count": 428,
     "metadata": {},
     "output_type": "execute_result"
    }
   ],
   "source": [
    "df['SalePrice'].median()"
   ]
  },
  {
   "cell_type": "code",
   "execution_count": null,
   "metadata": {
    "collapsed": true
   },
   "outputs": [],
   "source": []
  },
  {
   "cell_type": "code",
   "execution_count": null,
   "metadata": {
    "collapsed": true
   },
   "outputs": [],
   "source": []
  },
  {
   "cell_type": "code",
   "execution_count": null,
   "metadata": {
    "collapsed": true
   },
   "outputs": [],
   "source": [
    "with open('')"
   ]
  },
  {
   "cell_type": "code",
   "execution_count": null,
   "metadata": {
    "collapsed": true
   },
   "outputs": [],
   "source": [
    "model.predict()"
   ]
  }
 ],
 "metadata": {
  "kernelspec": {
   "display_name": "Python 3",
   "language": "python",
   "name": "python3"
  },
  "language_info": {
   "codemirror_mode": {
    "name": "ipython",
    "version": 3
   },
   "file_extension": ".py",
   "mimetype": "text/x-python",
   "name": "python",
   "nbconvert_exporter": "python",
   "pygments_lexer": "ipython3",
   "version": "3.6.1"
  }
 },
 "nbformat": 4,
 "nbformat_minor": 2
}

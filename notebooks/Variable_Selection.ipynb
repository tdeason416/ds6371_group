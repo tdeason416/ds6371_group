{
 "cells": [
  {
   "cell_type": "code",
   "execution_count": 213,
   "metadata": {
    "collapsed": true
   },
   "outputs": [],
   "source": [
    "import pandas as pd\n",
    "import numpy as np\n",
    "import sklearn.linear_model as lm\n",
    "import sklearn.model_selection as ms\n",
    "\n",
    "import matplotlib.pyplot as plt\n",
    "%matplotlib inline\n",
    "plt.style.use('ggplot')\n",
    "\n",
    "import scipy.stats as scs"
   ]
  },
  {
   "cell_type": "code",
   "execution_count": 201,
   "metadata": {
    "collapsed": true
   },
   "outputs": [],
   "source": [
    "houses = pd.read_csv('../data/train_withdummy.csv')\n",
    "min_r2 = .15\n",
    "max_cov_r2 = .65\n",
    "y_col = 'SalePrice'"
   ]
  },
  {
   "cell_type": "code",
   "execution_count": 215,
   "metadata": {},
   "outputs": [],
   "source": [
    "def reduce_variables(df, y_col, min_r2, max_cov_r2):\n",
    "    y = houses[y_col]\n",
    "    score = {}\n",
    "    for col in houses.columns:\n",
    "        X = houses[col]\n",
    "        score[col] = scs.linregress(y, X).rvalue\n",
    "    score = pd.Series(score)\n",
    "    abs_score = np.abs(score)\n",
    "    ## ignore plot\n",
    "    #plt.scatter(np.arange(abs_score.size), abs_score.sort_values())\n",
    "    keep_cols = abs_score[abs_score > min_r2]\n",
    "    cov_score = pd.Series()\n",
    "    for col1, rval1 in keep_cols.iteritems():\n",
    "        y = houses[col1]\n",
    "        for col2, rval2 in keep_cols.iteritems():\n",
    "            X = houses[col2]\n",
    "            cov_score['{}%{}'.format(col1,col2)] = scs.linregress(y, X).rvalue\n",
    "    abs_cov_score = np.abs(cov_score)\n",
    "    ## ignore plot\n",
    "    #plt.scatter(np.arange(abs_cov_score.size), abs_cov_score.sort_values())\n",
    "    now_drop = abs_cov_score[(abs_cov_score > max_cov_r2) & (abs_cov_score != 1)]\n",
    "    ## drop every other value (because they will be in pairs)\n",
    "    drops = now_drop.sort_values(ascending=False).index[::2]\n",
    "    drops = pd.Series(drops).apply(lambda x: x.split('%')[0])\n",
    "    new_keep_cols = list(keep_cols.drop(list(drops)).index)\n",
    "    new_keep_cols.append(y_col)\n",
    "    return houses[new_keep_cols]"
   ]
  },
  {
   "cell_type": "code",
   "execution_count": 211,
   "metadata": {},
   "outputs": [
    {
     "name": "stdout",
     "output_type": "stream",
     "text": [
      "['1stFlrSF', 'BedroomAbvGr', 'BsmtExposure$Gd', 'BsmtExposure$No', 'BsmtFinSF1', 'BsmtFinType1$GLQ', 'BsmtFullBath', 'BsmtQual$Ex', 'BsmtQual$Gd', 'BsmtUnfSF', 'CentralAir$Y', 'Electrical$FuseA', 'ExterQual$Ex', 'Exterior1st$MetalSd', 'Exterior1st$VinylSd', 'Exterior2nd$Wd Sdng', 'FireplaceQu$Ex', 'FireplaceQu$Gd', 'FireplaceQu$TA', 'Fireplaces', 'Foundation$BrkTil', 'FullBath', 'GarageCars', 'GarageFinish$Fin', 'GarageFinish$RFn', 'GarageFinish$Unf', 'GarageQual$TA', 'GarageType$BuiltIn', 'GarageType$Detchd', 'HalfBath', 'HeatingQC$TA', 'KitchenQual$Ex', 'KitchenQual$Fa', 'KitchenQual$TA', 'LotArea', 'LotFrontage', 'LotShape$IR1', 'MSSubClass$1-1/2 STORY FINISHED ALL AGES', 'MSSubClass$1-STORY 1945 & OLDER', 'MSZoning$RL', 'MasVnrArea', 'MasVnrType$BrkFace', 'MasVnrType$Stone', 'Neighborhood$Edwards', 'Neighborhood$IDOTRR', 'Neighborhood$NAmes', 'Neighborhood$NoRidge', 'Neighborhood$NridgHt', 'Neighborhood$OldTown', 'Neighborhood$StoneBr', 'OpenPorchSF', 'PavedDrive$N', 'RoofMatl$WdShngl', 'RoofStyle$Hip', 'SaleCondition$Normal', 'WoodDeckSF', 'YearBuilt', 'YearRemodAdd', 'SalePrice']\n"
     ]
    }
   ],
   "source": [
    "# nvars = reduce_variables(houses, y_col, min_r2, max_cov_r2)"
   ]
  },
  {
   "cell_type": "code",
   "execution_count": 222,
   "metadata": {},
   "outputs": [],
   "source": [
    "houses = pd.read_csv('../data/train_withdummy.csv')\n",
    "min_r2 = .15\n",
    "max_cov_r2 = .65\n",
    "y_col = 'SalePrice'\n",
    "\n",
    "scores = {}\n",
    "\n",
    "for value in np.linspace(.05, .7, 30):\n",
    "    min_r2 = value\n",
    "    df = reduce_variables(houses, y_col, min_r2, max_cov_r2)\n",
    "    y = df['SalePrice']\n",
    "    X = df.drop('SalePrice', axis=1)\n",
    "    Xtr, Xte, ytr, yte = ms.train_test_split(X, y, train_size=.90)\n",
    "    model = lm.LinearRegression(n_jobs=-1)\n",
    "    model.fit(Xtr, ytr)\n",
    "    scores[value] = np.abs(model.score(Xte, yte))\n",
    "    "
   ]
  },
  {
   "cell_type": "code",
   "execution_count": 225,
   "metadata": {},
   "outputs": [
    {
     "data": {
      "text/plain": [
       "<matplotlib.collections.PathCollection at 0x11db2a470>"
      ]
     },
     "execution_count": 225,
     "metadata": {},
     "output_type": "execute_result"
    },
    {
     "data": {
      "image/png": "[encoded data removed]",
      "text/plain": [
       "<matplotlib.figure.Figure at 0x11c0cb1d0>"
      ]
     },
     "metadata": {},
     "output_type": "display_data"
    }
   ],
   "source": [
    "min_r2_scores = pd.Series(scores)\n",
    "plt.scatter(min_r2_scores.index, min_r2_scores)"
   ]
  },
  {
   "cell_type": "code",
   "execution_count": 227,
   "metadata": {},
   "outputs": [],
   "source": [
    "houses = pd.read_csv('../data/train_withdummy.csv')\n",
    "min_r2 = .05\n",
    "# max_cov_r2 = .65\n",
    "y_col = 'SalePrice'\n",
    "\n",
    "cov_scores = {}\n",
    "cov_predict = {}\n",
    "\n",
    "for value in np.linspace(.5, .75, 4):\n",
    "    max_cov_r2 = value\n",
    "    df = reduce_variables(houses, y_col, min_r2, max_cov_r2)\n",
    "    y = df['SalePrice']\n",
    "    X = df.drop('SalePrice', axis=1)\n",
    "    Xtr, Xte, ytr, yte = ms.train_test_split(X, y, train_size=.80)\n",
    "    model = lm.LinearRegression(n_jobs=-1)\n",
    "    model.fit(Xtr, ytr)\n",
    "    cov_scores[value] = np.abs(model.score(Xte, yte))\n",
    "    cov_predict[value] = model.predict(Xte)\n",
    "cov_scores = pd.Series(cov_scores)"
   ]
  },
  {
   "cell_type": "code",
   "execution_count": 231,
   "metadata": {},
   "outputs": [
    {
     "data": {
      "text/plain": [
       "<matplotlib.collections.PathCollection at 0x11bf780b8>"
      ]
     },
     "execution_count": 231,
     "metadata": {},
     "output_type": "execute_result"
    },
    {
     "data": {
      "image/png": "[encoded data removed]",
      "text/plain": [
       "<matplotlib.figure.Figure at 0x11b695f98>"
      ]
     },
     "metadata": {},
     "output_type": "display_data"
    }
   ],
   "source": [
    "plt.scatter(cov_scores.index, cov_scores)"
   ]
  },
  {
   "cell_type": "code",
   "execution_count": 240,
   "metadata": {},
   "outputs": [],
   "source": [
    "# predicts = pd.DataFrame(*cov_predict.items())"
   ]
  },
  {
   "cell_type": "code",
   "execution_count": 257,
   "metadata": {
    "collapsed": true
   },
   "outputs": [],
   "source": [
    "houses = pd.read_csv('../data/train_withdummy.csv')\n",
    "min_r2 = .12\n",
    "max_cov_r2 = .78\n",
    "y_col = 'SalePrice'\n",
    "\n",
    "df = reduce_variables(houses, y_col, min_r2, max_cov_r2)"
   ]
  },
  {
   "cell_type": "code",
   "execution_count": 258,
   "metadata": {},
   "outputs": [
    {
     "data": {
      "text/plain": [
       "(96,)"
      ]
     },
     "execution_count": 258,
     "metadata": {},
     "output_type": "execute_result"
    }
   ],
   "source": [
    "df.columns.shape"
   ]
  },
  {
   "cell_type": "code",
   "execution_count": 259,
   "metadata": {
    "collapsed": true
   },
   "outputs": [],
   "source": [
    "y = df['SalePrice']\n",
    "X = df.drop('SalePrice', axis=1)\n",
    "Xtr, Xte, ytr, yte = ms.train_test_split(X, y, train_size=.80)\n",
    "model = lm.LinearRegression(n_jobs=-1)\n",
    "model.fit(Xtr, ytr)\n",
    "score = np.abs(model.score(Xte, yte))\n",
    "predict  = model.predict(Xte)"
   ]
  },
  {
   "cell_type": "code",
   "execution_count": 260,
   "metadata": {},
   "outputs": [
    {
     "data": {
      "text/plain": [
       "0.79189028323029387"
      ]
     },
     "execution_count": 260,
     "metadata": {},
     "output_type": "execute_result"
    }
   ],
   "source": [
    "score"
   ]
  }
 ],
 "metadata": {
  "kernelspec": {
   "display_name": "Python 3",
   "language": "python",
   "name": "python3"
  },
  "language_info": {
   "codemirror_mode": {
    "name": "ipython",
    "version": 3
   },
   "file_extension": ".py",
   "mimetype": "text/x-python",
   "name": "python",
   "nbconvert_exporter": "python",
   "pygments_lexer": "ipython3",
   "version": "3.6.1"
  }
 },
 "nbformat": 4,
 "nbformat_minor": 2
}

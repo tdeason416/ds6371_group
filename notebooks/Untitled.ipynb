{
 "cells": [
  {
   "cell_type": "code",
   "execution_count": 1,
   "metadata": {
    "collapsed": true
   },
   "outputs": [],
   "source": [
    "import pandas as pd\n",
    "import numpy as np\n",
    "import matplotlib.pyplot as plt"
   ]
  },
  {
   "cell_type": "code",
   "execution_count": 63,
   "metadata": {
    "collapsed": true
   },
   "outputs": [],
   "source": [
    "%matplotlib inline\n",
    "plt.style.use('ggplot')"
   ]
  },
  {
   "cell_type": "code",
   "execution_count": 64,
   "metadata": {
    "collapsed": true
   },
   "outputs": [],
   "source": [
    "houses = pd.read_csv('../test.csv')"
   ]
  },
  {
   "cell_type": "code",
   "execution_count": 69,
   "metadata": {},
   "outputs": [],
   "source": [
    "MSSubClass = \\\n",
    "'''\n",
    "20:1-STORY 1946 & NEWER ALL STYLES\n",
    "30:1-STORY 1945 & OLDER\n",
    "40:1-STORY W/FINISHED ATTIC ALL AGES\n",
    "45:1-1/2 STORY - UNFINISHED ALL AGES\n",
    "50:1-1/2 STORY FINISHED ALL AGES\n",
    "60:2-STORY 1946 & NEWER\n",
    "70:2-STORY 1945 & OLDER\n",
    "75:2-1/2 STORY ALL AGES\n",
    "80:SPLIT OR MULTI-LEVEL\n",
    "85:SPLIT FOYER\n",
    "90:DUPLEX - ALL STYLES AND AGES\n",
    "120:1-STORY PUD (Planned Unit Development) - 1946 & NEWER\n",
    "150:1-1/2 STORY PUD - ALL AGES\n",
    "160:2-STORY PUD - 1946 & NEWER\n",
    "180:PUD - MULTILEVEL - INCL SPLIT LEV/FOYER\n",
    "190:2 FAMILY CONVERSION - ALL STYLES AND AGES\n",
    "'''\n",
    "\n",
    "MSSubClass_split = MSSubClass.strip().split('\\n')\n",
    "MSSubClass_dict = {int(k.split(':')[0]): k.split(':')[1] for k in MSSubClass_split}"
   ]
  },
  {
   "cell_type": "code",
   "execution_count": 70,
   "metadata": {},
   "outputs": [],
   "source": [
    "houses['MSSubClass'] = houses['MSSubClass'].apply(lambda x: MSSubClass_dict[x])"
   ]
  },
  {
   "cell_type": "code",
   "execution_count": 72,
   "metadata": {},
   "outputs": [
    {
     "data": {
      "text/html": [
       "<div>\n",
       "<style>\n",
       "    .dataframe thead tr:only-child th {\n",
       "        text-align: right;\n",
       "    }\n",
       "\n",
       "    .dataframe thead th {\n",
       "        text-align: left;\n",
       "    }\n",
       "\n",
       "    .dataframe tbody tr th {\n",
       "        vertical-align: top;\n",
       "    }\n",
       "</style>\n",
       "<table border=\"1\" class=\"dataframe\">\n",
       "  <thead>\n",
       "    <tr style=\"text-align: right;\">\n",
       "      <th></th>\n",
       "      <th>Id</th>\n",
       "      <th>MSSubClass</th>\n",
       "      <th>MSZoning</th>\n",
       "      <th>LotFrontage</th>\n",
       "      <th>LotArea</th>\n",
       "      <th>Street</th>\n",
       "      <th>Alley</th>\n",
       "      <th>LotShape</th>\n",
       "      <th>LandContour</th>\n",
       "      <th>Utilities</th>\n",
       "      <th>...</th>\n",
       "      <th>ScreenPorch</th>\n",
       "      <th>PoolArea</th>\n",
       "      <th>PoolQC</th>\n",
       "      <th>Fence</th>\n",
       "      <th>MiscFeature</th>\n",
       "      <th>MiscVal</th>\n",
       "      <th>MoSold</th>\n",
       "      <th>YrSold</th>\n",
       "      <th>SaleType</th>\n",
       "      <th>SaleCondition</th>\n",
       "    </tr>\n",
       "  </thead>\n",
       "  <tbody>\n",
       "    <tr>\n",
       "      <th>987</th>\n",
       "      <td>2448</td>\n",
       "      <td>2-STORY 1945 &amp; OLDER</td>\n",
       "      <td>RM</td>\n",
       "      <td>53.0</td>\n",
       "      <td>9863</td>\n",
       "      <td>Pave</td>\n",
       "      <td>Pave</td>\n",
       "      <td>Reg</td>\n",
       "      <td>Lvl</td>\n",
       "      <td>AllPub</td>\n",
       "      <td>...</td>\n",
       "      <td>0</td>\n",
       "      <td>0</td>\n",
       "      <td>NaN</td>\n",
       "      <td>NaN</td>\n",
       "      <td>NaN</td>\n",
       "      <td>0</td>\n",
       "      <td>3</td>\n",
       "      <td>2007</td>\n",
       "      <td>WD</td>\n",
       "      <td>Abnorml</td>\n",
       "    </tr>\n",
       "    <tr>\n",
       "      <th>1114</th>\n",
       "      <td>2575</td>\n",
       "      <td>1-1/2 STORY FINISHED ALL AGES</td>\n",
       "      <td>RM</td>\n",
       "      <td>50.0</td>\n",
       "      <td>7000</td>\n",
       "      <td>Pave</td>\n",
       "      <td>NaN</td>\n",
       "      <td>Reg</td>\n",
       "      <td>Lvl</td>\n",
       "      <td>AllPub</td>\n",
       "      <td>...</td>\n",
       "      <td>0</td>\n",
       "      <td>0</td>\n",
       "      <td>NaN</td>\n",
       "      <td>MnPrv</td>\n",
       "      <td>NaN</td>\n",
       "      <td>0</td>\n",
       "      <td>5</td>\n",
       "      <td>2007</td>\n",
       "      <td>WD</td>\n",
       "      <td>Normal</td>\n",
       "    </tr>\n",
       "    <tr>\n",
       "      <th>182</th>\n",
       "      <td>1643</td>\n",
       "      <td>2-STORY 1946 &amp; NEWER</td>\n",
       "      <td>FV</td>\n",
       "      <td>NaN</td>\n",
       "      <td>7500</td>\n",
       "      <td>Pave</td>\n",
       "      <td>NaN</td>\n",
       "      <td>Reg</td>\n",
       "      <td>Lvl</td>\n",
       "      <td>AllPub</td>\n",
       "      <td>...</td>\n",
       "      <td>0</td>\n",
       "      <td>0</td>\n",
       "      <td>NaN</td>\n",
       "      <td>NaN</td>\n",
       "      <td>NaN</td>\n",
       "      <td>0</td>\n",
       "      <td>3</td>\n",
       "      <td>2009</td>\n",
       "      <td>WD</td>\n",
       "      <td>Normal</td>\n",
       "    </tr>\n",
       "  </tbody>\n",
       "</table>\n",
       "<p>3 rows × 80 columns</p>\n",
       "</div>"
      ],
      "text/plain": [
       "        Id                     MSSubClass MSZoning  LotFrontage  LotArea  \\\n",
       "987   2448           2-STORY 1945 & OLDER       RM         53.0     9863   \n",
       "1114  2575  1-1/2 STORY FINISHED ALL AGES       RM         50.0     7000   \n",
       "182   1643           2-STORY 1946 & NEWER       FV          NaN     7500   \n",
       "\n",
       "     Street Alley LotShape LandContour Utilities      ...       ScreenPorch  \\\n",
       "987    Pave  Pave      Reg         Lvl    AllPub      ...                 0   \n",
       "1114   Pave   NaN      Reg         Lvl    AllPub      ...                 0   \n",
       "182    Pave   NaN      Reg         Lvl    AllPub      ...                 0   \n",
       "\n",
       "     PoolArea PoolQC  Fence MiscFeature MiscVal MoSold  YrSold  SaleType  \\\n",
       "987         0    NaN    NaN         NaN       0      3    2007        WD   \n",
       "1114        0    NaN  MnPrv         NaN       0      5    2007        WD   \n",
       "182         0    NaN    NaN         NaN       0      3    2009        WD   \n",
       "\n",
       "      SaleCondition  \n",
       "987         Abnorml  \n",
       "1114         Normal  \n",
       "182          Normal  \n",
       "\n",
       "[3 rows x 80 columns]"
      ]
     },
     "execution_count": 72,
     "metadata": {},
     "output_type": "execute_result"
    }
   ],
   "source": [
    "houses.sample(3)"
   ]
  },
  {
   "cell_type": "code",
   "execution_count": 73,
   "metadata": {
    "collapsed": true
   },
   "outputs": [],
   "source": [
    "dtypes = pd.Series([houses[x].dtype for x in houses.columns])"
   ]
  },
  {
   "cell_type": "code",
   "execution_count": 74,
   "metadata": {},
   "outputs": [],
   "source": [
    "is_numeric = dtypes.apply(lambda x: True if x == int or x == float else False)"
   ]
  },
  {
   "cell_type": "code",
   "execution_count": 78,
   "metadata": {},
   "outputs": [],
   "source": [
    "num_cols = houses.columns[is_numeric]"
   ]
  },
  {
   "cell_type": "code",
   "execution_count": 79,
   "metadata": {},
   "outputs": [],
   "source": [
    "cat_cols = houses.columns[~is_numeric]"
   ]
  },
  {
   "cell_type": "code",
   "execution_count": 85,
   "metadata": {},
   "outputs": [],
   "source": [
    "hdummy = houses.copy()\n",
    "\n",
    "for col in cat_cols:\n",
    "    for value in houses[col].unique():\n",
    "        hdummy['{}${}'.format(col,value)] = hdummy[col] == value\n",
    "    hdummy.drop(col, axis=1, inplace=True)\n",
    "        "
   ]
  },
  {
   "cell_type": "code",
   "execution_count": 86,
   "metadata": {},
   "outputs": [
    {
     "data": {
      "text/plain": [
       "Index(['Id', 'LotFrontage', 'LotArea', 'OverallQual', 'OverallCond',\n",
       "       'YearBuilt', 'YearRemodAdd', 'MasVnrArea', 'BsmtFinSF1', 'BsmtFinSF2',\n",
       "       ...\n",
       "       'SaleType$ConLw', 'SaleType$ConLI', 'SaleType$CWD', 'SaleType$nan',\n",
       "       'SaleCondition$Normal', 'SaleCondition$Partial',\n",
       "       'SaleCondition$Abnorml', 'SaleCondition$Family', 'SaleCondition$Alloca',\n",
       "       'SaleCondition$AdjLand'],\n",
       "      dtype='object', length=308)"
      ]
     },
     "execution_count": 86,
     "metadata": {},
     "output_type": "execute_result"
    }
   ],
   "source": [
    "hdummy.columns"
   ]
  },
  {
   "cell_type": "code",
   "execution_count": null,
   "metadata": {
    "collapsed": true
   },
   "outputs": [],
   "source": []
  }
 ],
 "metadata": {
  "kernelspec": {
   "display_name": "Python 3",
   "language": "python",
   "name": "python3"
  },
  "language_info": {
   "codemirror_mode": {
    "name": "ipython",
    "version": 3
   },
   "file_extension": ".py",
   "mimetype": "text/x-python",
   "name": "python",
   "nbconvert_exporter": "python",
   "pygments_lexer": "ipython3",
   "version": "3.6.1"
  }
 },
 "nbformat": 4,
 "nbformat_minor": 2
}

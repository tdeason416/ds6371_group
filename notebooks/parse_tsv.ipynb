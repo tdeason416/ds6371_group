{
 "cells": [
  {
   "cell_type": "code",
   "execution_count": 1,
   "metadata": {
    "collapsed": true
   },
   "outputs": [],
   "source": [
    "import numpy as np\n",
    "import pandas as pd\n",
    "import matplotlib.pyplot as plt"
   ]
  },
  {
   "cell_type": "code",
   "execution_count": 2,
   "metadata": {
    "collapsed": true
   },
   "outputs": [],
   "source": [
    "%matplotlib inline\n",
    "plt.style.use('ggplot')"
   ]
  },
  {
   "cell_type": "code",
   "execution_count": 3,
   "metadata": {
    "collapsed": true
   },
   "outputs": [],
   "source": [
    "with open('../output.csv', 'r') as readfile:\n",
    "    params = readfile.read()"
   ]
  },
  {
   "cell_type": "code",
   "execution_count": 38,
   "metadata": {},
   "outputs": [],
   "source": [
    "def convert_tsv(input_file, output_File):\n",
    "    with open(input_file, 'r') as readfile:\n",
    "        params = readfile.read()\n",
    "    big_dict = pd.Series()\n",
    "    for line in params.split('\\n'):\n",
    "        values = line.split('\\t')\n",
    "        if len(values) < 4:\n",
    "            continue\n",
    "        try:\n",
    "            int(values[0])\n",
    "        except:\n",
    "            big_dict[values[0]] = values[2]\n",
    "    nowastring = ''\n",
    "#     big_dict = pd.Series(big_dict)\n",
    "    for k, v in big_dict.iteritems():\n",
    "        nowastring += '{},{}\\n'.format(k,v)\n",
    "\n",
    "    with open(output_File, 'w') as writefile:\n",
    "        writefile.write(nowastring)"
   ]
  },
  {
   "cell_type": "code",
   "execution_count": 32,
   "metadata": {},
   "outputs": [],
   "source": [
    "nowastring = ''\n",
    "for k, v in big_dict.iteritems():\n",
    "    nowastring += '{},{}\\n'.format(k,v)\n",
    "\n",
    "with open('sillyfile.csv', 'w') as writefile:\n",
    "    writefile.write(nowastring)"
   ]
  },
  {
   "cell_type": "code",
   "execution_count": 39,
   "metadata": {},
   "outputs": [],
   "source": [
    "convert_tsv('../output.csv', '../poof.csv')"
   ]
  },
  {
   "cell_type": "code",
   "execution_count": null,
   "metadata": {
    "collapsed": true
   },
   "outputs": [],
   "source": []
  }
 ],
 "metadata": {
  "kernelspec": {
   "display_name": "Python 3",
   "language": "python",
   "name": "python3"
  },
  "language_info": {
   "codemirror_mode": {
    "name": "ipython",
    "version": 3
   },
   "file_extension": ".py",
   "mimetype": "text/x-python",
   "name": "python",
   "nbconvert_exporter": "python",
   "pygments_lexer": "ipython3",
   "version": "3.6.1"
  }
 },
 "nbformat": 4,
 "nbformat_minor": 2
}

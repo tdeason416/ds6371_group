{
 "cells": [
  {
   "cell_type": "code",
   "execution_count": 1,
   "metadata": {
    "collapsed": true
   },
   "outputs": [],
   "source": [
    "import pandas as pd\n",
    "import numpy as np\n",
    "import matplotlib.pyplot as plt"
   ]
  },
  {
   "cell_type": "code",
   "execution_count": 63,
   "metadata": {
    "collapsed": true
   },
   "outputs": [],
   "source": [
    "%matplotlib inline\n",
    "plt.style.use('ggplot')"
   ]
  },
  {
   "cell_type": "code",
   "execution_count": 64,
   "metadata": {
    "collapsed": true
   },
   "outputs": [],
   "source": [
    "houses = pd.read_csv('../test.csv')"
   ]
  },
  {
   "cell_type": "code",
   "execution_count": 69,
   "metadata": {},
   "outputs": [],
   "source": [
    "MSSubClass = \\\n",
    "'''\n",
    "20:1-STORY 1946 & NEWER ALL STYLES\n",
    "30:1-STORY 1945 & OLDER\n",
    "40:1-STORY W/FINISHED ATTIC ALL AGES\n",
    "45:1-1/2 STORY - UNFINISHED ALL AGES\n",
    "50:1-1/2 STORY FINISHED ALL AGES\n",
    "60:2-STORY 1946 & NEWER\n",
    "70:2-STORY 1945 & OLDER\n",
    "75:2-1/2 STORY ALL AGES\n",
    "80:SPLIT OR MULTI-LEVEL\n",
    "85:SPLIT FOYER\n",
    "90:DUPLEX - ALL STYLES AND AGES\n",
    "120:1-STORY PUD (Planned Unit Development) - 1946 & NEWER\n",
    "150:1-1/2 STORY PUD - ALL AGES\n",
    "160:2-STORY PUD - 1946 & NEWER\n",
    "180:PUD - MULTILEVEL - INCL SPLIT LEV/FOYER\n",
    "190:2 FAMILY CONVERSION - ALL STYLES AND AGES\n",
    "'''\n",
    "\n",
    "MSSubClass_split = MSSubClass.strip().split('\\n')\n",
    "MSSubClass_dict = {int(k.split(':')[0]): k.split(':')[1] for k in MSSubClass_split}"
   ]
  },
  {
   "cell_type": "code",
   "execution_count": 70,
   "metadata": {},
   "outputs": [],
   "source": [
    "houses['MSSubClass'] = houses['MSSubClass'].apply(lambda x: MSSubClass_dict[x])"
   ]
  },
  {
   "cell_type": "code",
   "execution_count": 73,
   "metadata": {
    "collapsed": true
   },
   "outputs": [],
   "source": [
    "dtypes = pd.Series([houses[x].dtype for x in houses.columns])"
   ]
  },
  {
   "cell_type": "code",
   "execution_count": 74,
   "metadata": {},
   "outputs": [],
   "source": [
    "is_numeric = dtypes.apply(lambda x: True if x == int or x == float else False)"
   ]
  },
  {
   "cell_type": "code",
   "execution_count": 78,
   "metadata": {},
   "outputs": [],
   "source": [
    "num_cols = houses.columns[is_numeric]"
   ]
  },
  {
   "cell_type": "code",
   "execution_count": 79,
   "metadata": {},
   "outputs": [],
   "source": [
    "cat_cols = houses.columns[~is_numeric]"
   ]
  },
  {
   "cell_type": "code",
   "execution_count": 85,
   "metadata": {},
   "outputs": [],
   "source": [
    "hdummy = houses.copy()\n",
    "\n",
    "for col in cat_cols:\n",
    "    for value in houses[col].unique():\n",
    "        hdummy['{}${}'.format(col,value)] = hdummy[col] == value\n",
    "    hdummy.drop(col, axis=1, inplace=True)"
   ]
  },
  {
   "cell_type": "code",
   "execution_count": 87,
   "metadata": {},
   "outputs": [],
   "source": [
    "hdummy.to_csv('../data/test_withdummy.csv')"
   ]
  }
 ],
 "metadata": {
  "kernelspec": {
   "display_name": "Python 3",
   "language": "python",
   "name": "python3"
  },
  "language_info": {
   "codemirror_mode": {
    "name": "ipython",
    "version": 3
   },
   "file_extension": ".py",
   "mimetype": "text/x-python",
   "name": "python",
   "nbconvert_exporter": "python",
   "pygments_lexer": "ipython3",
   "version": "3.6.1"
  }
 },
 "nbformat": 4,
 "nbformat_minor": 2
}
